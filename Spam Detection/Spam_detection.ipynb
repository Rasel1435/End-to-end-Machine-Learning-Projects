{
 "cells": [
  {
   "attachments": {},
   "cell_type": "markdown",
   "metadata": {},
   "source": [
    "# Spam Detection with Python"
   ]
  },
  {
   "attachments": {},
   "cell_type": "markdown",
   "metadata": {},
   "source": [
    "Spam detection is one of the machine learning projects that every data science beginner must have tried once. Recently I shared an article on how to detect spam emails and messages with machine learning which you can find <a href=\"https://github.com/Rasel1435/Machine-Learning-Projects-with-Python-for-Beginners/blob/main/Spam_Detection_with_Machine_Learning/Spam%20Detection.ipynb\">here</a>. With its continuation in this article, I’ll walk you through how to build an end-to-end spam detection system with Python."
   ]
  },
  {
   "attachments": {},
   "cell_type": "markdown",
   "metadata": {},
   "source": [
    "# End-to-End Spam Detection with Python"
   ]
  },
  {
   "attachments": {},
   "cell_type": "markdown",
   "metadata": {},
   "source": [
    "To create an end-to-end application for the spam detection task, you must first learn how to detect spam alerts with machine learning. You can learn all about Spam Detection with Machine Learning from <a href=\"https://github.com/Rasel1435/Machine-Learning-Projects-with-Python-for-Beginners/blob/main/Spam_Detection_with_Machine_Learning/Spam%20Detection.ipynb\">here</a>. Now returning to its end-to-end deployment, I’ll be using the streamlit library in Python to build an end-to-end application for the machine learning model to detect spam alerts in real-time. If you have never used the streamlit library before, you can easily install it on your system using the pip command"
   ]
  },
  {
   "attachments": {},
   "cell_type": "markdown",
   "metadata": {},
   "source": [
    "### pip install streamlit"
   ]
  },
  {
   "attachments": {},
   "cell_type": "markdown",
   "metadata": {},
   "source": [
    "Now, if you have gone through this <a href=\"https://github.com/Rasel1435/Machine-Learning-Projects-with-Python-for-Beginners/blob/main/Spam_Detection_with_Machine_Learning/Spam%20Detection.ipynb\">article</a>, here is how you can build an end-to-end application for spam detection with Python"
   ]
  },
  {
   "cell_type": "code",
   "execution_count": 1,
   "metadata": {},
   "outputs": [],
   "source": [
    "# import necessary library\n",
    "import pandas as pd\n",
    "import numpy as np\n",
    "from sklearn.feature_extraction.text import CountVectorizer\n",
    "\n",
    "# Spliting Data\n",
    "from sklearn.model_selection import train_test_split\n",
    "\n",
    "# Choosing Model & Training The Model\n",
    "from sklearn.naive_bayes import MultinomialNB\n",
    "\n",
    "# Data Collection\n",
    "data = pd.read_csv(\"https://raw.githubusercontent.com/amankharwal/SMS-Spam-Detection/master/spam.csv\", encoding='latin-1')\n",
    "\n",
    "# Feature Selection\n",
    "data = data[[\"class\", \"message\"]]\n",
    "x = np.array(data[\"message\"])\n",
    "y = np.array(data[\"class\"])\n",
    "\n",
    "# Choosing Model & Training The Model\n",
    "cv = CountVectorizer()\n",
    "x = cv.fit_transform(x) # fit the data\n",
    "x_train, x_test, y_train, y_test = train_test_split(x, y, test_size=0.33, random_state=42)\n",
    "\n",
    "# another model \n",
    "clf = MultinomialNB()\n",
    "clf.fit(x_train, y_train)\n",
    "\n",
    "# import streamlit \n",
    "import streamlit as st\n",
    "st.title(\"Spam Detection System\")\n",
    "def spamdetection():\n",
    "    user = st.text_area(\"Enter any Message or Email: \")\n",
    "    if len(user) < 1:\n",
    "        st.write(\" \")\n",
    "    else:\n",
    "        sample = user\n",
    "        data = cv.transform[sample].toarray()\n",
    "        a = clf.predict(data)\n",
    "        st.title(a)\n",
    "spamdetection()\n"
   ]
  },
  {
   "attachments": {},
   "cell_type": "markdown",
   "metadata": {},
   "source": [
    "You cannot run this code the same way you run your other Python programs. As we are using the streamlit library here, so you need to write a command mentioned below in your command prompt or terminal to run this code"
   ]
  },
  {
   "attachments": {},
   "cell_type": "markdown",
   "metadata": {},
   "source": [
    "### streamlit run filename.py"
   ]
  },
  {
   "attachments": {},
   "cell_type": "markdown",
   "metadata": {},
   "source": [
    "Once this command executes, it will open a link on your default web browser that will display your end-to-end application for spam detection, as shown below"
   ]
  },
  {
   "attachments": {},
   "cell_type": "markdown",
   "metadata": {},
   "source": [
    "# Summary"
   ]
  },
  {
   "attachments": {},
   "cell_type": "markdown",
   "metadata": {},
   "source": [
    "So this is how you can create an end-to-end spam detection system with Python. Spam detection is one of the machine learning projects that every data science beginner must have tried once. So creating an end-to-end application for your project will turn out to be an advanced machine learning project. I hope you liked this article on how to create an end-to-end spam detection system with Python. Feel free to ask your valuable questions in the comments section below"
   ]
  },
  {
   "attachments": {},
   "cell_type": "markdown",
   "metadata": {},
   "source": [
    "# Sheikh Rasel Ahmed"
   ]
  },
  {
   "attachments": {},
   "cell_type": "markdown",
   "metadata": {},
   "source": [
    "#### Data Science || Machine Learning || Deep Learning || Artificial Intelligence Enthusiast"
   ]
  },
  {
   "attachments": {},
   "cell_type": "markdown",
   "metadata": {},
   "source": [
    "##### LinkedIn - https://www.linkedin.com/in/shekhnirob1\n",
    "\n",
    "##### GitHub - https://github.com/Rasel1435\n",
    "\n",
    "##### Behance - https://www.behance.net/Shekhrasel2513"
   ]
  }
 ],
 "metadata": {
  "kernelspec": {
   "display_name": "Python 3",
   "language": "python",
   "name": "python3"
  },
  "language_info": {
   "codemirror_mode": {
    "name": "ipython",
    "version": 3
   },
   "file_extension": ".py",
   "mimetype": "text/x-python",
   "name": "python",
   "nbconvert_exporter": "python",
   "pygments_lexer": "ipython3",
   "version": "3.10.9"
  },
  "orig_nbformat": 4,
  "vscode": {
   "interpreter": {
    "hash": "e7370f93d1d0cde622a1f8e1c04877d8463912d04d973331ad4851f04de6915a"
   }
  }
 },
 "nbformat": 4,
 "nbformat_minor": 2
}
