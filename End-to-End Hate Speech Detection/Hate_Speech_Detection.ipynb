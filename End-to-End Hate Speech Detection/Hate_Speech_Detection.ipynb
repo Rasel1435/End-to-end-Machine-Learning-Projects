{
 "cells": [
  {
   "attachments": {},
   "cell_type": "markdown",
   "metadata": {},
   "source": [
    "# End-to-End Hate Speech Detection with Python"
   ]
  },
  {
   "attachments": {},
   "cell_type": "markdown",
   "metadata": {},
   "source": [
    "Hate speech is one of the serious issues we see on social media platforms like Facebook and Twitter, mostly from people with political views. I recently shared an article on how to train a machine learning model for the hate speech detection task which you can find here. With its continuation, in this article, I’ll walk you through how to build an end-to-end hate speech detection system with Python."
   ]
  },
  {
   "attachments": {},
   "cell_type": "markdown",
   "metadata": {},
   "source": [
    "To create an end-to-end application for the task of hate speech detection, you must first learn how to train a machine learning model to detect if there is hate speech in a piece of text. You can easily learn all about hate speech detection with machine learning from <a href=\"https://github.com/Rasel1435/Advanced-Data-Science-Machine-Learning-Projects/blob/main/Hate%20Speech%20Detection%20with%20Machine%20Learning/Hate_Speech_Detection_with_Machine_Learning.ipynb\">here</a>. To deploy this model as an end-to-end application, I will be using the streamlit library in Python which will help us see the predictions of the hate speech detection model in real-time. If you have never used the streamlit library before, you need to install it on your system using the pip command"
   ]
  },
  {
   "attachments": {},
   "cell_type": "markdown",
   "metadata": {},
   "source": [
    "pip install streamlit"
   ]
  },
  {
   "attachments": {},
   "cell_type": "markdown",
   "metadata": {},
   "source": [
    "I hope you must have gone through <a href=\"https://github.com/Rasel1435/Advanced-Data-Science-Machine-Learning-Projects/blob/main/Hate%20Speech%20Detection%20with%20Machine%20Learning/Hate_Speech_Detection_with_Machine_Learning.ipynb\">this article</a> for learning about training a hate speech detection model, now here is how you can build an end-to-end application for the task of hate speech detection using Python"
   ]
  },
  {
   "cell_type": "code",
   "execution_count": null,
   "metadata": {},
   "outputs": [],
   "source": [
    "#Importing Necessary Libraies\n",
    "from nltk.util import pr \n",
    "import pandas as pd \n",
    "import numpy as np\n",
    "from sklearn.feature_extraction.text import CountVectorizer\n",
    "\n",
    "#Feature Selection\n",
    "from sklearn.model_selection import train_test_split\n",
    "\n",
    "#Model Selection\n",
    "from sklearn.tree import DecisionTreeClassifier\n",
    "\n",
    "#Data Collection\n",
    "data = pd.read_csv(\"data/twitter.csv\")\n",
    "\n",
    "#I will add a new column to this dataset as labels which will contain the values as\n",
    "data[\"labels\"] = data[\"class\"].map({0: \"Hate Speech\",\n",
    "                                    1: \"Offensive Langiage\",\n",
    "                                    2: \"No Hate and Offensive\"})\n",
    "\n",
    "\n",
    "data = data[[\"tweet\", \"labels\"]]\n",
    "#print(data.head())\n",
    "\n",
    "\n",
    "import re\n",
    "import nltk\n",
    "stemmer = nltk.SnowballStemmer(\"english\")\n",
    "from nltk.corpus import stopwords\n",
    "import string\n",
    "stopword = set(stopwords.words('english'))\n",
    "\n",
    "#Cleaning Data\n",
    "def clean(text):\n",
    "    text = str(text).lower()\n",
    "    text = re.sub('\\[.*?\\]', '', text)\n",
    "    text = re.sub('https?://\\S+|www\\.\\S+', '', text)\n",
    "    text = re.sub('<.*?>+', '', text)\n",
    "    text = re.sub('[%s]' % re.escape(string.punctuation), '', text)\n",
    "    text = re.sub('\\n', '', text)\n",
    "    text = re.sub('\\w*\\d\\w*', '', text)\n",
    "    text = [word for word in text.split(' ') if word not in stopword]\n",
    "    text=\" \".join(text)\n",
    "    text = [stemmer.stem(word) for word in text.split(' ')]\n",
    "    text=\" \".join(text)\n",
    "    return text\n",
    "data[\"tweet\"] = data[\"tweet\"].apply(clean)\n",
    "\n",
    "#Feature Selection\n",
    "x = np.array(data[\"tweet\"])\n",
    "y = np.array(data[\"labels\"])\n",
    "\n",
    "# Model Selection\n",
    "cv = CountVectorizer()\n",
    "X = cv.fit_transform(x) #Fit the data\n",
    "X_train, Xtest, y_train, y_test = train_test_split(X,y, test_size=0.33, random_state=42)\n",
    "\n",
    "\n",
    "clf = DecisionTreeClassifier()\n",
    "clf.fit(X_train, y_train)\n",
    "clf.score(X_train, y_test)\n",
    "\n",
    "def hate_speech_detection():\n",
    "    import streamlit as st\n",
    "    st.title(\"Hate Speech Detection\")\n",
    "    user = st.text_area(\"Enter any Tweet: \")\n",
    "    if len(user) < 1:\n",
    "        st.write(\" \")\n",
    "    else:\n",
    "        sample = user\n",
    "        data = cv.transform([sample]).toarray()\n",
    "        a = clf.predict(data)\n",
    "        st.title(a)\n",
    "hate_speech_detection()"
   ]
  },
  {
   "attachments": {},
   "cell_type": "markdown",
   "metadata": {},
   "source": [
    "As we are using the streamlit library in Python here so you cannot run this application the same way you run your other Python programs. You need to write the command mentioned below in your command prompt or terminal"
   ]
  },
  {
   "attachments": {},
   "cell_type": "markdown",
   "metadata": {},
   "source": [
    "streamlit run filename.py"
   ]
  },
  {
   "attachments": {},
   "cell_type": "markdown",
   "metadata": {},
   "source": [
    "Once the above command is executed, it will open a link on your default web browser which will show an end-to-end application where you have to write some text and it will detect if the text contains hate speech, offensive language or not, as shown in the image below."
   ]
  },
  {
   "attachments": {},
   "cell_type": "markdown",
   "metadata": {},
   "source": [
    "# Summary"
   ]
  },
  {
   "attachments": {},
   "cell_type": "markdown",
   "metadata": {},
   "source": [
    "So, this is how you can easily build an end-to-end application to detect hate speech using the Python programming language. Hate speech is one of the serious issues we see on social media platforms like Facebook and Twitter, mostly from people with political views. Hope you liked this article on how to build an end-to-end application to detect hate speech with Python. Please feel free to ask your valuable questions in the comments section below."
   ]
  },
  {
   "attachments": {},
   "cell_type": "markdown",
   "metadata": {},
   "source": [
    "# Sheikh Rasel Ahmed"
   ]
  },
  {
   "attachments": {},
   "cell_type": "markdown",
   "metadata": {},
   "source": [
    "#### Data Science || Machine Learning || Deep Learning || Artificial Intelligence Enthusiast"
   ]
  },
  {
   "attachments": {},
   "cell_type": "markdown",
   "metadata": {},
   "source": [
    "##### LinkedIn - https://www.linkedin.com/in/shekhnirob1\n",
    "##### GitHub - https://github.com/Rasel1435\n",
    "##### Behance - https://www.behance.net/Shekhrasel2513"
   ]
  }
 ],
 "metadata": {
  "kernelspec": {
   "display_name": "Python 3",
   "language": "python",
   "name": "python3"
  },
  "language_info": {
   "codemirror_mode": {
    "name": "ipython",
    "version": 3
   },
   "file_extension": ".py",
   "mimetype": "text/x-python",
   "name": "python",
   "nbconvert_exporter": "python",
   "pygments_lexer": "ipython3",
   "version": "3.10.9"
  },
  "orig_nbformat": 4,
  "vscode": {
   "interpreter": {
    "hash": "e7370f93d1d0cde622a1f8e1c04877d8463912d04d973331ad4851f04de6915a"
   }
  }
 },
 "nbformat": 4,
 "nbformat_minor": 2
}
