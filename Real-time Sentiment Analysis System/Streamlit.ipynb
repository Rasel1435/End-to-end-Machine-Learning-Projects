{
 "cells": [
  {
   "attachments": {},
   "cell_type": "markdown",
   "metadata": {},
   "source": [
    "# Streamlit Tutorial using Python"
   ]
  },
  {
   "attachments": {},
   "cell_type": "markdown",
   "metadata": {},
   "source": [
    "Streamlit is an open-source Python framework used to deploy machine learning models in beautiful web applications in just a few lines of code. You don’t need any knowledge of web development to deploy machine learning models with this framework. In this article, I will introduce you to a tutorial on Streamlit using Python."
   ]
  },
  {
   "attachments": {},
   "cell_type": "markdown",
   "metadata": {},
   "source": [
    "## What is Streamlit?"
   ]
  },
  {
   "attachments": {},
   "cell_type": "markdown",
   "metadata": {},
   "source": [
    "Deploying machine learning models is not as easy as we think. If you want to deploy a machine learning model in software then you need to have some knowledge of software development. In the same way, if you want to deploy your model in a web application then you need to have some knowledge of web development. It is found that a major proportion of people who are coming into data science nowadays are not from a coding background. So they don’t find the process of web development easy."
   ]
  },
  {
   "attachments": {},
   "cell_type": "markdown",
   "metadata": {},
   "source": [
    "Streamlit is the best tool if you don’t know anything about web development. It is an open-source Python framework used to deploy machine learning models in just a few lines of code. Not only machine learning models but you can also run your basic programs in the form of interactive web applications by using this framework."
   ]
  },
  {
   "attachments": {},
   "cell_type": "markdown",
   "metadata": {},
   "source": [
    "Below are the three most important features that the Streamlit framework provides"
   ]
  },
  {
   "attachments": {},
   "cell_type": "markdown",
   "metadata": {},
   "source": [
    "1. Embrace Scripting: You can build an interactive web app with just a few lines of code, and if you make any changes to your code, you’ll see automatic updates in the web app. This happens with the magic API provided by this framework.\n",
    "2. Weave in Interaction: Adding widgets to your web application is as easy as declaring variables in Python.\n",
    "3. Deploy instantly: Streamlit sharing platform helps you deploy and manage your apps effortlessly."
   ]
  },
  {
   "attachments": {},
   "cell_type": "markdown",
   "metadata": {},
   "source": [
    "I hope you now know what is streamlit and why we use it for deploying machine learning models. In the section below, I will take you through a tutorial on Streamlit using Python."
   ]
  },
  {
   "attachments": {},
   "cell_type": "markdown",
   "metadata": {},
   "source": [
    "# Web Application with Streamlit using Python"
   ]
  },
  {
   "attachments": {},
   "cell_type": "markdown",
   "metadata": {},
   "source": [
    "Creating web applications by using the Streamlit library in Python is way easier than other Python frameworks like Flask. Now let’s see how to create your first web application with streamlit using Python. Here I will create a web application based on Real-time sentiment analysis. Below is the complete code that I used to create a real-time sentiment analysis system using Python"
   ]
  },
  {
   "cell_type": "code",
   "execution_count": 5,
   "metadata": {},
   "outputs": [
    {
     "name": "stderr",
     "output_type": "stream",
     "text": [
      "[nltk_data] Downloading package vader_lexicon to\n",
      "[nltk_data]     /home/sheikh/nltk_data...\n",
      "[nltk_data]   Package vader_lexicon is already up-to-date!\n"
     ]
    },
    {
     "name": "stdout",
     "output_type": "stream",
     "text": [
      "userInput: Sheikh is a Good Boy\n",
      "Positive\n"
     ]
    }
   ],
   "source": [
    "from nltk.sentiment.vader import SentimentIntensityAnalyzer\n",
    "import nltk\n",
    "nltk.download('vader_lexicon')\n",
    "\n",
    "#user input\n",
    "user_input = input(\"Please Rate Our Services >>: \")\n",
    "print(f\"userInput: {user_input}\")\n",
    "sid = SentimentIntensityAnalyzer()\n",
    "score = sid.polarity_scores(user_input)\n",
    "\n",
    "#logic\n",
    "if score[\"neg\"] != 0:\n",
    "      print(\"Negative\")\n",
    "else:\n",
    "      print(\"Positive\")"
   ]
  },
  {
   "attachments": {},
   "cell_type": "markdown",
   "metadata": {},
   "source": [
    "Now below is how simple it is to convert it into a web application using Streamlit"
   ]
  },
  {
   "cell_type": "code",
   "execution_count": 6,
   "metadata": {},
   "outputs": [],
   "source": [
    "import streamlit as st\n",
    "import nltk\n",
    "from nltk.sentiment.vader import SentimentIntensityAnalyzer\n",
    "st.write(\"# Real Time Sentiment Analysis\")\n",
    "\n",
    "user_input = st.text_input(\"Please rate our services >>: \")\n",
    "nltk.download(\"vader_lexicon\")\n",
    "s = SentimentIntensityAnalyzer()\n",
    "score = s.polarity_scores(user_input)\n",
    "\n",
    "if score == 0:\n",
    "    st.write(\" \")\n",
    "elif score[\"neg\"] != 0:\n",
    "    st.write(\"# Negative\")\n",
    "elif score[\"pos\"] != 0:\n",
    "    st.write(\"# Positive\")"
   ]
  }
 ],
 "metadata": {
  "kernelspec": {
   "display_name": "Python 3",
   "language": "python",
   "name": "python3"
  },
  "language_info": {
   "codemirror_mode": {
    "name": "ipython",
    "version": 3
   },
   "file_extension": ".py",
   "mimetype": "text/x-python",
   "name": "python",
   "nbconvert_exporter": "python",
   "pygments_lexer": "ipython3",
   "version": "3.10.9"
  },
  "orig_nbformat": 4,
  "vscode": {
   "interpreter": {
    "hash": "e7370f93d1d0cde622a1f8e1c04877d8463912d04d973331ad4851f04de6915a"
   }
  }
 },
 "nbformat": 4,
 "nbformat_minor": 2
}
