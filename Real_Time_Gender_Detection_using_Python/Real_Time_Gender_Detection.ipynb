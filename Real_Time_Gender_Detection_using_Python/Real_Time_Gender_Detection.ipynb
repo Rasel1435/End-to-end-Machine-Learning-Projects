{
 "cells": [
  {
   "cell_type": "markdown",
   "metadata": {},
   "source": [
    "# Real_Time Gender_Detection_using_Python"
   ]
  },
  {
   "cell_type": "markdown",
   "metadata": {},
   "source": [
    "Gender detection is one of the popular computer vision applications. When you use a camera to detect a person’s gender instead of detecting it on a picture, it can be said to be a real-time gender detection system. So, if you want to learn how to create a real-time gender detection system, this article is for you. In this article, I’ll walk you through the task of real-time gender detection using Python."
   ]
  },
  {
   "cell_type": "markdown",
   "metadata": {},
   "source": [
    "# Real-time Gender Detection System\n"
   ]
  },
  {
   "cell_type": "markdown",
   "metadata": {},
   "source": [
    "To create a gender detection system using Python, we need to train a model with some high-level features of the face of human beings such as:"
   ]
  },
  {
   "cell_type": "markdown",
   "metadata": {},
   "source": [
    "1. the distance between eyes, nose, and mouth \n",
    "2. and measurements of different parts of the face of both the genders"
   ]
  },
  {
   "cell_type": "markdown",
   "metadata": {},
   "source": [
    "There are many libraries and frameworks in Python that can be used to create a real-time gender detection system. Some of these libraries include Yolo, Tensorflow, OpenCV, and Cvlib. So here I am going to use the Cvlib library in Python that can be used to detect the gender of a person in a few lines of code."
   ]
  },
  {
   "cell_type": "markdown",
   "metadata": {},
   "source": [
    "Along with Cvlib, I will also be using the OpenCV library in Python so that we can detect a person’s gender using a webcam. So here is how to install both libraries on your system using the pip command:"
   ]
  },
  {
   "cell_type": "markdown",
   "metadata": {},
   "source": [
    "1. pip install opencv-python\n",
    "2. pip install cvlib"
   ]
  },
  {
   "cell_type": "markdown",
   "metadata": {},
   "source": [
    "# Real-time Gender Detection using Python\n"
   ]
  },
  {
   "cell_type": "markdown",
   "metadata": {},
   "source": [
    "Hope you have easily installed the two libraries we need to detect the gender of a person I mentioned above. Now here is how to detect a person’s gender with Python in real-time using a webcam:"
   ]
  },
  {
   "cell_type": "code",
   "execution_count": 1,
   "metadata": {},
   "outputs": [],
   "source": [
    "import cvlib as cv\n",
    "import cv2\n",
    "import numpy as np\n",
    "\n",
    "webcam = cv2.VideoCapture(0)\n",
    "    \n",
    "padding = 20\n",
    "while webcam.isOpened():\n",
    "    status, frame = webcam.read()\n",
    "    face, confidence = cv.detect_face(frame)\n",
    "    for idx, f in enumerate(face):        \n",
    "        (startX,startY) = max(0, f[0]-padding), max(0, f[1]-padding)\n",
    "        (endX,endY) = min(frame.shape[1]-1, f[2]+padding), min(frame.shape[0]-1, f[3]+padding)\n",
    "        cv2.rectangle(frame, (startX,startY), (endX,endY), (0,255,0), 2)\n",
    "        face_crop = np.copy(frame[startY:endY, startX:endX]) \n",
    "        (label, confidence) = cv.detect_gender(face_crop)\n",
    "        idx = np.argmax(confidence)\n",
    "        label = label[idx]\n",
    "        label = \"{}: {:.2f}%\".format(label, confidence[idx] * 100)\n",
    "        Y = startY - 10 if startY - 10 > 10 else startY + 10\n",
    "        cv2.putText(frame, label, (startX,Y), cv2.FONT_HERSHEY_SIMPLEX, 0.7,\n",
    "                    (0,255,0), 2)\n",
    "    cv2.imshow(\"Real-time gender detection\", frame)\n",
    "    # press \"s\" to stop\n",
    "    if cv2.waitKey(1) & 0xFF == ord('s'):\n",
    "        break\n",
    "webcam.release()\n",
    "cv2.destroyAllWindows()     "
   ]
  },
  {
   "cell_type": "markdown",
   "metadata": {},
   "source": [
    "Once the above code starts executing, it will open your webcam and detect your gender as shown below. If you want to stop this program from running, just press “s” and it will stop your program from running."
   ]
  },
  {
   "cell_type": "markdown",
   "metadata": {},
   "source": [
    "# Summary"
   ]
  },
  {
   "cell_type": "markdown",
   "metadata": {},
   "source": [
    "So this is how you can build a gender detection system by using the Python programming language. Gender detection is one of the popular computer vision applications. When you use a camera to detect a person’s gender instead of detecting it on a picture, it can be said to be a realtime gender detection system. I hope you liked this article on Realtime Gender Detection using Python. Feel free to ask your valuable questions in the comments section below."
   ]
  },
  {
   "cell_type": "markdown",
   "metadata": {},
   "source": [
    "# Sheikh Rasel Ahmed"
   ]
  },
  {
   "cell_type": "markdown",
   "metadata": {},
   "source": [
    "#### Data Science || Machine Learning || Deep Learning || Artificial Intelligence Enthusiast"
   ]
  },
  {
   "cell_type": "markdown",
   "metadata": {},
   "source": [
    "##### LinkedIn - https://www.linkedin.com/in/shekhnirob1\n",
    "##### GitHub - https://github.com/Rasel1435"
   ]
  }
 ],
 "metadata": {
  "kernelspec": {
   "display_name": "base",
   "language": "python",
   "name": "python3"
  },
  "language_info": {
   "codemirror_mode": {
    "name": "ipython",
    "version": 3
   },
   "file_extension": ".py",
   "mimetype": "text/x-python",
   "name": "python",
   "nbconvert_exporter": "python",
   "pygments_lexer": "ipython3",
   "version": "3.10.9"
  },
  "orig_nbformat": 4
 },
 "nbformat": 4,
 "nbformat_minor": 2
}
