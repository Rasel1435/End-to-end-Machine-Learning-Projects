{
 "cells": [
  {
   "attachments": {},
   "cell_type": "markdown",
   "metadata": {},
   "source": [
    "# End-to-End Fake News Detection with Python"
   ]
  },
  {
   "attachments": {},
   "cell_type": "markdown",
   "metadata": {},
   "source": [
    "The spread of fake news is one of the most negative sides of social media applications. Recently I shared an article on how to detect fake news with machine learning which you can find here. With its continuation, in this article, I’ll take you through how to build an end-to-end fake news detection system with Python."
   ]
  },
  {
   "attachments": {},
   "cell_type": "markdown",
   "metadata": {},
   "source": [
    "To create an end-to-end application for the task of fake news detection, you must first learn how to detect fake news with machine learning. You can learn all about Fake News detection with Machine Learning from here. Now returning to its end-to-end deployment, I’ll be using the streamlit library in Python to build an end-to-end application for the machine learning model to detect fake news in real-time. If you have never used the streamlit library before, you can easily install it on your system using the pip command"
   ]
  },
  {
   "attachments": {},
   "cell_type": "markdown",
   "metadata": {},
   "source": [
    "pip install streamlit"
   ]
  },
  {
   "attachments": {},
   "cell_type": "markdown",
   "metadata": {},
   "source": [
    "Now, if you have gone through this article, here is how you can build an end-to-end application for the task of fake news detection with Python"
   ]
  },
  {
   "cell_type": "code",
   "execution_count": 1,
   "metadata": {},
   "outputs": [],
   "source": [
    "#Import Important Libraries\n",
    "import pandas as pd\n",
    "import numpy as np\n",
    "from sklearn.feature_extraction.text import CountVectorizer\n",
    "from sklearn.model_selection import train_test_split\n",
    "from sklearn.naive_bayes import MultinomialNB\n",
    "\n",
    "#Data Collection\n",
    "data = pd.read_csv(\"data/fake_or_real_news.csv\")\n",
    "\n",
    "#Feature Selection\n",
    "x = np.array(data[\"title\"]) #feature\n",
    "y = np.array(data[\"label\"]) # target\n",
    "\n",
    "cv = CountVectorizer()\n",
    "x = cv.fit_transform(x)\n",
    "\n",
    "#Spliting Data\n",
    "xtrain, xtest, ytrain, ytest = train_test_split(x,y test_size=0.2, random_state=42)\n",
    "\n",
    "#Training a machine learning model\n",
    "model = MultinomialNB()\n",
    "model.fit(xtrain, ytrain)\n",
    "\n",
    "\n",
    "import streamlit as st\n",
    "st.title(\"Fake News Detection System\")\n",
    "\n",
    "def fakenewsdetection():\n",
    "    user = st.text_area(\"Enter Any News headline\")\n",
    "    if len(user) < 1:\n",
    "        st.write(\" \")\n",
    "    else:\n",
    "        sample = user\n",
    "        data = cv.transform([sample]).toarray()\n",
    "        a = model.predict(data)\n",
    "        st.title(a)\n",
    "fakenewsdetection()\n"
   ]
  },
  {
   "attachments": {},
   "cell_type": "markdown",
   "metadata": {},
   "source": [
    "You cannot run this code the same way you run your other Python programs. As we are using the streamlit library here, so you need to write a command mentioned below in your command prompt or terminal to run this code"
   ]
  },
  {
   "attachments": {},
   "cell_type": "markdown",
   "metadata": {},
   "source": [
    "streamlit run filename.py"
   ]
  },
  {
   "attachments": {},
   "cell_type": "markdown",
   "metadata": {},
   "source": [
    "Once this command executes, it will open a link on your default web browser that will display your output as a web interface for fake news detection, as shown below."
   ]
  },
  {
   "attachments": {},
   "cell_type": "markdown",
   "metadata": {},
   "source": [
    "Now you can give input as a news headline and this application will show you if the news headline you gave as input is fake or real."
   ]
  },
  {
   "attachments": {},
   "cell_type": "markdown",
   "metadata": {},
   "source": [
    "# Summary"
   ]
  },
  {
   "attachments": {},
   "cell_type": "markdown",
   "metadata": {},
   "source": [
    "So this is how you can create an end-to-end application to detect fake news with Python. The spread of fake news is one of the most negative sides of social media applications. So creating an end-to-end application that can detect whether the news is fake or real will turn out to be an advanced machine learning project. I hope you liked this article on how to create an end-to-end fake news detection system with Python. Feel free to ask your valuable questions in the comments section below."
   ]
  },
  {
   "attachments": {},
   "cell_type": "markdown",
   "metadata": {},
   "source": [
    "# Sheikh Rasel Ahmed"
   ]
  },
  {
   "attachments": {},
   "cell_type": "markdown",
   "metadata": {},
   "source": [
    "#### Data Science || Machine Learning || Deep Learning || Artificial Intelligence Enthusiast"
   ]
  },
  {
   "attachments": {},
   "cell_type": "markdown",
   "metadata": {},
   "source": [
    "##### LinkedIn - https://www.linkedin.com/in/shekhnirob1\n",
    "##### GitHub - https://github.com/Rasel1435\n",
    "##### Behance - https://www.behance.net/Shekhrasel2513"
   ]
  }
 ],
 "metadata": {
  "kernelspec": {
   "display_name": "Python 3",
   "language": "python",
   "name": "python3"
  },
  "language_info": {
   "codemirror_mode": {
    "name": "ipython",
    "version": 3
   },
   "file_extension": ".py",
   "mimetype": "text/x-python",
   "name": "python",
   "nbconvert_exporter": "python",
   "pygments_lexer": "ipython3",
   "version": "3.10.9"
  },
  "orig_nbformat": 4,
  "vscode": {
   "interpreter": {
    "hash": "e7370f93d1d0cde622a1f8e1c04877d8463912d04d973331ad4851f04de6915a"
   }
  }
 },
 "nbformat": 4,
 "nbformat_minor": 2
}
