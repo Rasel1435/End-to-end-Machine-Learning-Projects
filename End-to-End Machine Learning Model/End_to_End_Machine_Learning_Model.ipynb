{
 "cells": [
  {
   "attachments": {},
   "cell_type": "markdown",
   "metadata": {},
   "source": [
    "# End-to-End Machine Learning Model"
   ]
  },
  {
   "attachments": {},
   "cell_type": "markdown",
   "metadata": {},
   "source": [
    "You’ll find plenty of machine learning projects and tutorials on the internet, but only a few of them focus on end-to-end model deployment. So, if you want to learn how to build an end-to-end machine learning model, then this article is for you. In this article, I’ll walk you through how to build an end-to-end machine learning model using Python."
   ]
  },
  {
   "attachments": {},
   "cell_type": "markdown",
   "metadata": {},
   "source": [
    "# How to Build an End-to-End Machine Learning Model?"
   ]
  },
  {
   "attachments": {},
   "cell_type": "markdown",
   "metadata": {},
   "source": [
    "An end-to-end machine learning model means that you train a model and deploy it into an end product or application where it can be used to add value to an organization. For example, when you train a model for the task of predicting stock prices, it cannot be said to be an end-to-end model. But if you build an app where you give a user input as the name of the stock or its symbol and get its future prices as output, this is an end-to-end model."
   ]
  },
  {
   "attachments": {},
   "cell_type": "markdown",
   "metadata": {},
   "source": [
    "So we can say that if you build an application where you can test the predictions of your trained model, it is an end-to-end model. This is why having an end to end application in your data science resume strengthens your profile as it shows that you know how to train a model that can add value to an organization when deployed in the product or the final application. In the section below, I’ll walk you through how to build an end-to-end model using Python."
   ]
  },
  {
   "attachments": {},
   "cell_type": "markdown",
   "metadata": {},
   "source": [
    "We can use several ways in Python to build an end-to-end application for your model. I mainly use the streamlit library in Python which is so easy to use that it can deploy your model into an application in a few lines of code. If you’ve never used it before, you can easily install it using the pip command"
   ]
  },
  {
   "attachments": {},
   "cell_type": "markdown",
   "metadata": {},
   "source": [
    "pip install streamlit"
   ]
  },
  {
   "attachments": {},
   "cell_type": "markdown",
   "metadata": {},
   "source": [
    "Now I will walk you through how to create an end-to-end model for the task of future price prediction. Here I am going to deploy a dogecoin price prediction model that I trained before. You can find it from <a href=\"https://github.com/Rasel1435/Machine-Learning-Projects-with-Python-for-Beginners/blob/main/Dogecoin%20Price%20Prediction%20with%20Machine%20Learning/Dogecoin_Price_Prediction.ipynb\">here</a>. Now let’s see how to deploy a model in an end-to-end application"
   ]
  },
  {
   "cell_type": "code",
   "execution_count": 8,
   "metadata": {},
   "outputs": [],
   "source": [
    "from autots import AutoTS\n",
    "import numpy as np\n",
    "import pandas as pd\n",
    "import matplotlib.pyplot as plt\n",
    "import seaborn as sns\n",
    "from seaborn import regression\n",
    "sns.set()\n",
    "plt.style.use('seaborn-whitegrid')\n",
    "\n",
    "\n",
    "import streamlit as st\n",
    "st.title((\"Future Price Prediction Model\"))\n",
    "df = st.text_input(\"Let's Predict the Future Prices\")\n",
    "\n",
    "if df == \"Dogecoin\":\n",
    "    data = pd.read_csv(\"data/DOGE-USD.csv\")\n",
    "    print(data.head())\n",
    "    data.dropna()\n",
    "    model = AutoTS(forecast_length=10, frequency='infer', ensemble='simple', drop_data_older_than_periods=200)\n",
    "    model = model.fit(data, data_col = 'Data', value_col='Close', id_col=None)\n",
    "    prediction = model.predict()\n",
    "    forecast = prediction.forecast\n",
    "    st.write(forecast)\n"
   ]
  },
  {
   "attachments": {},
   "cell_type": "markdown",
   "metadata": {},
   "source": [
    "To run this code, you have to write this command in your command prompt or terminal"
   ]
  },
  {
   "attachments": {},
   "cell_type": "markdown",
   "metadata": {},
   "source": [
    "streamlit run filename.py "
   ]
  },
  {
   "attachments": {},
   "cell_type": "markdown",
   "metadata": {},
   "source": [
    "And then you will see a web page open in your default browser that will display your final output as shown below"
   ]
  },
  {
   "attachments": {},
   "cell_type": "markdown",
   "metadata": {},
   "source": [
    "# Summary"
   ]
  },
  {
   "attachments": {},
   "cell_type": "markdown",
   "metadata": {},
   "source": [
    "So this is how to create an end-to-end application for your trained model. You can find some more end-to-end machine learning projects solved and explained using Python from <a href=\"https://github.com/Rasel1435/Machine-Learning-Projects-with-Python-for-Beginners/blob/main/Dogecoin%20Price%20Prediction%20with%20Machine%20Learning/Dogecoin_Price_Prediction.ipynb\">here</a>. Hope you liked this article on how to build an end-to-end application for your machine learning models. Please feel free to ask your valuable questions in the comments section below."
   ]
  },
  {
   "attachments": {},
   "cell_type": "markdown",
   "metadata": {},
   "source": [
    "# Sheikh Rasel Ahmed"
   ]
  },
  {
   "attachments": {},
   "cell_type": "markdown",
   "metadata": {},
   "source": [
    "#### Data Science || Machine Learning || Deep Learning || Artificial Intelligence Enthusiast"
   ]
  },
  {
   "attachments": {},
   "cell_type": "markdown",
   "metadata": {},
   "source": [
    "##### LinkedIn - https://www.linkedin.com/in/shekhnirob1\n",
    "##### GitHub - https://github.com/Rasel1435\n",
    "##### Behance - https://www.behance.net/Shekhrasel2513"
   ]
  }
 ],
 "metadata": {
  "kernelspec": {
   "display_name": "base",
   "language": "python",
   "name": "python3"
  },
  "language_info": {
   "codemirror_mode": {
    "name": "ipython",
    "version": 3
   },
   "file_extension": ".py",
   "mimetype": "text/x-python",
   "name": "python",
   "nbconvert_exporter": "python",
   "pygments_lexer": "ipython3",
   "version": "3.9.13"
  },
  "orig_nbformat": 4,
  "vscode": {
   "interpreter": {
    "hash": "3ebbeb6fc6c41980b2733e54004dbfe85dfa9ec834fbdca0d3128d7c085b8c44"
   }
  }
 },
 "nbformat": 4,
 "nbformat_minor": 2
}
